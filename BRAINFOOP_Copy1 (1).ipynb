{
 "cells": [
  {
   "cell_type": "markdown",
   "id": "bec0d42e",
   "metadata": {
    "id": "bec0d42e"
   },
   "source": [
    "# Oops, I accidentaly Created a Programing language - ⁉\n"
   ]
  },
  {
   "cell_type": "code",
   "execution_count": 43,
   "id": "ohb_R8eE0O09",
   "metadata": {
    "id": "ohb_R8eE0O09"
   },
   "outputs": [],
   "source": []
  },
  {
   "cell_type": "code",
   "execution_count": 43,
   "id": "qF6pRNEl0Oxa",
   "metadata": {
    "id": "qF6pRNEl0Oxa"
   },
   "outputs": [],
   "source": []
  },
  {
   "cell_type": "code",
   "execution_count": 1,
   "id": "LnwGsfnJ0Oqa",
   "metadata": {
    "id": "LnwGsfnJ0Oqa"
   },
   "outputs": [],
   "source": [
    "from pprint import pprint as print"
   ]
  },
  {
   "cell_type": "code",
   "execution_count": 2,
   "id": "XMSQNp_dyiWN",
   "metadata": {
    "colab": {
     "base_uri": "https://localhost:8080/",
     "height": 35
    },
    "id": "XMSQNp_dyiWN",
    "outputId": "f318a01d-8e5a-4b67-b303-d5c3a924c6e5"
   },
   "outputs": [
    {
     "data": {
      "text/plain": [
       "'\\ngrapes\\nbananas'"
      ]
     },
     "execution_count": 2,
     "metadata": {},
     "output_type": "execute_result"
    }
   ],
   "source": [
    "def strip_comments(strng, markers):\n",
    "    for num, marker in enumerate(markers):\n",
    "        strng = '\\n'.join([i.split(marker)[0].rstrip() for i in strng.split('\\n')])\n",
    "\n",
    "    return strng\n",
    "strip_comments('apples, pears # and bananas\\ngrapes\\nbananas !apples', ['apples',\n",
    "'#', '!'])"
   ]
  },
  {
   "cell_type": "code",
   "execution_count": 45,
   "id": "35EUX7Doz_yV",
   "metadata": {
    "id": "35EUX7Doz_yV"
   },
   "outputs": [],
   "source": []
  },
  {
   "cell_type": "code",
   "execution_count": 13,
   "id": "c8b5d64c",
   "metadata": {
    "id": "c8b5d64c"
   },
   "outputs": [],
   "source": [
    "\n",
    "#===========================\n",
    "from dataclasses import dataclass\n",
    "from operator import indexOf\n",
    "class B(Exception):\n",
    "    pass\n",
    "@dataclass # looks cool ig\n",
    "class BrainFlop:\n",
    "     # repr is a neat little thing i used for this: \n",
    "    def __repr__(self):\n",
    "        if not self._shutup:\n",
    "            try: return f\"Stored Data: {dict({i:chr(x) for i,x in enumerate(self.data)})}\" if self.data else ''#return ''.join(chr(x) for x in self._output)\n",
    "            except:  return str(vars(self)) if self else ' error '\n",
    "        else:return \" \"\n",
    "    def __init__(self, code=' ', inp='',save=None):\n",
    "        self.point = 0\n",
    "        self.countBy = 1\n",
    "        self.data = bytearray([0])\n",
    "        self.inp = bytearray(inp,encoding='ascii')\n",
    "        self._output = bytearray('',encoding='ascii')\n",
    "        self.skip=False\n",
    "        self.jump_backs=[]\n",
    "        self._shutup = False\n",
    "        self._infinite_tape_option = False\n",
    "    @property\n",
    "    def toggle_infinite_tape(self):\n",
    "        if not self.skip: \n",
    "            self._infinite_tape_option = not self._infinite_tape_option\n",
    "        return self\n",
    "    @property\n",
    "    def output(self):\n",
    "        print('---------------')\n",
    "        print(f\"-- OUTPUT:\\n{''.join(chr(x) for x in self._output)} \\n--\")\n",
    "        return self\n",
    "    @property # for exe mode\n",
    "    def stop(self):return ''.join(chr(x) for x in self._output)\n",
    "    def end(self,quiet=True,show_data=False):\n",
    "        if not quiet:\n",
    "            print('-- program run succsess --')\n",
    "            print(f\"--FINAL OUTPUT:\\n{''.join(chr(x) for x in self._output)}\\n--\")\n",
    "            if show_data:print(f'-- FINAL DATA --\\n{self.data}')\n",
    "        return ''.join(chr(x) for x in self._output)\n",
    "    @property\n",
    "    def rgt(self):\n",
    "        if not self.skip:\n",
    "            self.point += 1\n",
    "            if self.point >= len(self.data):self.data.append(0)\n",
    "        return self\n",
    "    @property\n",
    "    def lft(self): \n",
    "        if not self.skip:\n",
    "            if self.point < -1:\n",
    "                if not self._infinite_tape_option: raise B(self.point)\n",
    "            else:self.point-=1\n",
    "        return self\n",
    "    def advance(self,c):\n",
    "        if not self.skip: self.point+=c\n",
    "        return self\n",
    "    @property\n",
    "    def inc(self): \n",
    "        if not self.skip: d = self.data[self.point];self.data[self.point] = d + self.countBy if d < 255 else 0\n",
    "        return self\n",
    "    @property\n",
    "    def dec(self): \n",
    "        if not self.skip: d = self.data[self.point];self.data[self.point] = d - self.countBy if d > 0 else 255\n",
    "        return self\n",
    "    @property\n",
    "    def put(self): \n",
    "        if not self.skip:\n",
    "            if self.data[self.point]: self._output.append(self.data[self.point])\n",
    "        return self\n",
    "    @property\n",
    "    def put_all(self):\n",
    "        if not self.skip:\n",
    "            temp=0\n",
    "            while temp<len(self.data):\n",
    "                self._output.append(self.data[temp])\n",
    "                temp+=1\n",
    "        return self\n",
    "                \n",
    "            \n",
    "    @property\n",
    "    def get(self,c=None):\n",
    "        if not self.skip: self.data[self.point] = self.inp.pop(0)\n",
    "        return self\n",
    "    @property\n",
    "    def get_all(self):\n",
    "        if not self.skip: \n",
    "            while self.inp:\n",
    "                self.get.rgt\n",
    "        return self\n",
    "        \n",
    "    @property\n",
    "    def jump_if_zero(self):\n",
    "            try:\n",
    "                if self.data[self.point] == 0:\n",
    "                    self.skip=True\n",
    "                else:\n",
    "                    self.jump_backs.extend([self.point])\n",
    "                    self.point+=1  \n",
    "            except:\n",
    "                if self.data[self.point-1] == 0:\n",
    "                    self.skip=True\n",
    "                else:\n",
    "                    self.jump_backs.extend([self.point])\n",
    "                    self.point+=1  \n",
    "            return self\n",
    "    @property\n",
    "    def jiz(self):return self.jump_if_zero\n",
    "    @property\n",
    "    def jump_back_if_not_zero(self):\n",
    "        try:\n",
    "            if self.rgt.lft.data[self.point] != 0:\n",
    "                    self.point = self.jump_backs.pop()\n",
    "            else:\n",
    "                self.skip=False\n",
    "        except:\n",
    "            if self.rgt.lft.data[self.point-1] != 0:\n",
    "                    self.point = self.jump_backs.pop()\n",
    "            else:\n",
    "                self.skip=False\n",
    "        return self\n",
    "    # allias\n",
    "    @property\n",
    "    def jbinz(self):return self.jump_back_if_not_zero\n",
    "    def clear_out(self):self._output.clear()\n",
    "    @property\n",
    "    def RENEW(self):self=BrainFlop();return self\n",
    "    def comment(self,comment=None):return self\n",
    "    @property\n",
    "    def vars(self):__import__('pprint').pprint(vars(self));return self\n",
    "    #=================utilities=======================\n",
    "    def load(self,inp):\n",
    "        try: self.inp+= bytearray(inp,encoding='ascii')\n",
    "        except TypeError:self.inp+=bytearray(chr(inp),encoding='ascii')                                 \n",
    "        return self\n",
    "    _copy=\"\"\n",
    "    @property\n",
    "    def copy(self):\n",
    "        if not self.skip: self._copy=self.data[self.point]\n",
    "        return self\n",
    "    @property\n",
    "    def paste(self):\n",
    "        if not self.skip:\n",
    "            self.data[self.point]=self._copy\n",
    "        return self\n",
    "    @property # this one is useless, but looks nice tho.\n",
    "    def zero(self):self.data[self.point]=0;return self\n",
    "    # well, that was easy.... too easy....🤔\n",
    "    def set(self,value):\n",
    "        self.data[self.point] = ord(value) if type(value)==str else value\n",
    "        return self\n",
    "    @property\n",
    "    def swap_with_left(self):self.data[self.point],self.data[self.point-1]=self.data[self.point-1],self.data[self.point];return self\n",
    "    @property\n",
    "    def swap_with_right(self):self.data[self.point],self.data[self.point+1]=self.data[self.point+1],self.data[self.point];return self\n",
    "    # movement----------------------------------------------------------------------------------------------------\n",
    "    @property\n",
    "    def goto_Start(self):\n",
    "        if not self.skip:\n",
    "            self.point=0\n",
    "        return self\n",
    "    def goto(self,loc):\n",
    "        if not self.skip:\n",
    "            self.point=loc\n",
    "        return self\n",
    "        # self.point= loc if cond else elloc\n",
    "    def CondGoto(self, loc, cond, elloc=False):\n",
    "        if cond and not self.skip:\n",
    "            self.point=loc\n",
    "        elif elloc and not self.skip : \n",
    "            self.point = elloc\n",
    "                \n",
    "        return self\n",
    "    @property\n",
    "    def DEL(self):del self.data[self.point];self.point-=1;return self\n",
    "    @property\n",
    "    def INPUT(self):self.inp+=bytearray(''.join((x) for x in input('Put some stuff in: ')),encoding='ascii');return self\n",
    "    @property\n",
    "    def goto_Last(self):self.point=len(self.data)-1;return self\n",
    "    def where(self):print(f'--> Pointer => {self.point}');return '' if self._shutup else self\n",
    "    # -----------------------------------------------------------------------------------------------------\n",
    "    def countBy(self,number):self.countBy=number;returnSelf\n",
    "    @property\n",
    "    def rand(self):self.data[self.point]=__import__('random').randint(1,255);return self\n",
    "    def what(self):print(f'--> position {self.point} => [{self.data[self.point]}]');return '' if self._shutup else self\n",
    "    @property\n",
    "    def shutUp(self):self._shutup=True;return self\n",
    "    @property\n",
    "    def talk(self):self._shutup=False;return self\n",
    "    # operator========================================================\n",
    "    def add(self,how_much):\n",
    "        if not self.skip:self.data[self.point]+=int(how_much)  \n",
    "        return self\n",
    "    def sub(self,how_much):\n",
    "        if not self.skip:self.data[self.point]-=int(how_much)   \n",
    "        return self\n",
    "    def mul(self,how_much):\n",
    "        if not self.skip:self.data[self.point]*= int(how_much)\n",
    "        return self\n",
    "    def mod(self,how_much):\n",
    "        if not self.skip:self.data[self.point]%=int(how_much)  \n",
    "        return self\n",
    "    def pow(self,how_much):\n",
    "        if not self.skip:self.data[self.point]**=int(how_much) \n",
    "        return self\n",
    "    def eq(self,how_much):\n",
    "        if not self.skip: self.data[self.point]=(self.data[self.point]==how_much)\n",
    "        return self\n",
    "    def fdiv(self,how_much):\n",
    "        if not self.skip: self.data[self.point]//=int(how_much)\n",
    "        return self\n",
    "    def band(self,how_much):\n",
    "        if not self.skip: self.data[self.point]&=int(how_much) \n",
    "        return self\n",
    "    def bor(self,how_much):\n",
    "        if not self.skip: self.data[self.point]|=int(how_much)\n",
    "        return self\n",
    "    def inv(self,how_much):\n",
    "        if not self.skip: self.data[self.point]=~self.data[self.point]\n",
    "        return self\n",
    "    def bxor(self,how_much):\n",
    "        if not self.skip: self.data[self.point]^=int(how_much)\n",
    "        return self\n",
    "    def rshift(self,how_much):\n",
    "        if not self.skip: self.data[self.point]<<=int(how_much) \n",
    "        return self\n",
    "    def rshift(self,how_much):\n",
    "        if not self.skip: self.data[self.point]>>=int(how_much) \n",
    "        return self\n",
    "    # stack ------------------------------\n",
    "    @property\n",
    "    def peek(self):\n",
    "        try: print(f'--> neighboors of {self.point} have data of {self.data[self.point-1]} {f\"and {self.data[self.point+1]}\" if self.point!=0 else \"\"}')\n",
    "        except:print(self.data)\n",
    "        return self\n",
    "    @property\n",
    "    def pop(self):\n",
    "        if not self.skip:self.data.pop()\n",
    "        return self\n",
    "    # other stuff ----------------\n",
    "    @property\n",
    "    def FAST_EXIT(self):\n",
    "        if not self.skip: return chr(self.data[self.point])\n",
    "        return self\n",
    "    def insert_array(self,arr):\n",
    "        if not self.skip: \n",
    "            for x in arr: self.load(x).get.rgt\n",
    "        return self\n",
    "    @property\n",
    "    def sort(self):\n",
    "        if not self.skip: self.data=sorted(self.data)\n",
    "        return self \n",
    "def execute_program(code,markers=['01','#','//',';','--','* ','!','(','[','{','%%']):\n",
    "    compiler=BrainFlop()\n",
    "    for x in strip_comments(code,markers).strip().splitlines():\n",
    "        getattr(compiler,x.strip()) \n",
    "    return compiler\n",
    "bf=BrainFlop()\n"
   ]
  },
  {
   "cell_type": "code",
   "execution_count": 7,
   "id": "b466f0fd",
   "metadata": {
    "colab": {
     "base_uri": "https://localhost:8080/"
    },
    "id": "b466f0fd",
    "outputId": "55aefad3-3abd-485a-a86e-d1f94997afe5"
   },
   "outputs": [
    {
     "data": {
      "text/plain": [
       "Stored Data: {0: '\\x01'}"
      ]
     },
     "execution_count": 7,
     "metadata": {},
     "output_type": "execute_result"
    }
   ],
   "source": [
    "execute_program(';inc\\ninc')"
   ]
  },
  {
   "cell_type": "code",
   "execution_count": null,
   "id": "df1f158f",
   "metadata": {
    "colab": {
     "base_uri": "https://localhost:8080/",
     "height": 435
    },
    "id": "df1f158f",
    "outputId": "623baec7-b675-4346-c5f9-d59cc5fe083a"
   },
   "outputs": [],
   "source": []
  },
  {
   "cell_type": "code",
   "execution_count": 46,
   "id": "1a1d30a9",
   "metadata": {
    "id": "1a1d30a9"
   },
   "outputs": [],
   "source": []
  },
  {
   "cell_type": "markdown",
   "id": "SKbkVYhCOrLp",
   "metadata": {
    "id": "SKbkVYhCOrLp"
   },
   "source": [
    "# -- Presentation --"
   ]
  },
  {
   "cell_type": "markdown",
   "id": "9975b60c",
   "metadata": {
    "id": "9975b60c"
   },
   "source": [
    "### Brainfoop has two ways of running: through 'execute' or functions.\n",
    "\n",
    "I prefer the functions.\n",
    "\n",
    "---\n",
    "\n",
    "\n"
   ]
  },
  {
   "cell_type": "code",
   "execution_count": 25,
   "id": "41b34ac9",
   "metadata": {
    "colab": {
     "base_uri": "https://localhost:8080/",
     "height": 577
    },
    "id": "41b34ac9",
    "outputId": "f3a367ad-f492-45c5-e6c4-6ca8ba64ac47",
    "scrolled": true
   },
   "outputs": [
    {
     "name": "stdout",
     "output_type": "stream",
     "text": [
      "'--> position 0 => [1]'\n",
      "''\n",
      "'--> position 0 => [0]'\n",
      "''\n",
      "'--> Pointer => 1'\n",
      "''\n",
      "'--> Pointer => 0'\n",
      "''\n",
      "'--> position 0 => [0]'\n",
      "''\n",
      " \n",
      "':)'\n",
      "Put some stuff in: 23\n",
      "Stored Data: {0: '\\x01', 1: '2', 2: '3', 3: '\\x00'}\n"
     ]
    }
   ],
   "source": [
    "\n",
    "# FUNCTION MODE\n",
    "bf = bf.RENEW.shutUp\n",
    "print(bf.inc.what())  # increment \n",
    "print(bf.dec.what())  # decrement\n",
    "print(bf.rgt.where()) # move right\n",
    "print(bf.lft.where()) # move left\n",
    "print(bf.jiz.inc.jbinz.what()) # skip if not zero, go back if not zero. This skips the dec. \n",
    "print(bf.comment('almost no parenthases to my functionsm,  #certified-𝐑𝐄𝐁𝐄𝐋#builtdifferent#cocconut_malled'))\n",
    "print(bf.load(':)').get.put.get.put.end())\n",
    "# EXECUTE MODE - LIMITED. \n",
    "print(execute_program('''\n",
    "inc  \n",
    "INPUT\n",
    "rgt\n",
    "get_all\n",
    "put\n",
    "stop\n",
    "''')) # execute can only do functions without parethases"
   ]
  },
  {
   "cell_type": "code",
   "execution_count": null,
   "id": "yc8SsAcZPF41",
   "metadata": {
    "id": "yc8SsAcZPF41"
   },
   "outputs": [],
   "source": []
  },
  {
   "cell_type": "code",
   "execution_count": 48,
   "id": "9d04ce31",
   "metadata": {
    "id": "9d04ce31"
   },
   "outputs": [
    {
     "data": {
      "text/plain": [
       "'nú'"
      ]
     },
     "execution_count": 48,
     "metadata": {},
     "output_type": "execute_result"
    }
   ],
   "source": [
    "bf.talk\n",
    "#bf.RENEW <= renew resets all of the variables\n",
    "# makes room for 4 cells, goes to start and adds a random variable. \\ is line continuatiotn.\n",
    "bf.RENEW.rgt.rgt.rgt.comment('first and last cells will have stuff')\\\n",
    "                             .goto_Start\\\n",
    "                             .rand\\\n",
    "                             .put\\\n",
    "                             .goto_Last\\\n",
    "                             .rand\\\n",
    "                             .put\\\n",
    "                             .end(show_data=True)\n",
    "                            # - right, right, right, -comment-\n",
    "                            # go to first index\n",
    "                            # add a random number\n",
    "                          \n",
    "                            # place the number in output\n",
    "                            # go to last index and do the same. "
   ]
  },
  {
   "cell_type": "code",
   "execution_count": 49,
   "id": "cf225386",
   "metadata": {
    "id": "cf225386",
    "scrolled": false
   },
   "outputs": [
    {
     "name": "stdout",
     "output_type": "stream",
     "text": [
      "'--> neighboors of 2 have data of 1 and 255'\n"
     ]
    },
    {
     "data": {
      "text/plain": [
       "Stored Data: {0: '\\x01', 1: '\\x01', 2: '\\x01', 3: 'ÿ'}"
      ]
     },
     "execution_count": 49,
     "metadata": {},
     "output_type": "execute_result"
    }
   ],
   "source": [
    "bf.RENEW.inc.rgt.inc.rgt.inc.rgt.dec.lft.peek # peek - print neghboors"
   ]
  },
  {
   "cell_type": "code",
   "execution_count": 50,
   "id": "5038ca85",
   "metadata": {
    "id": "5038ca85"
   },
   "outputs": [
    {
     "name": "stdout",
     "output_type": "stream",
     "text": [
      "'---------------'\n",
      "'-- OUTPUT:\\nfunctions need currly brackets\\x00 \\n--'\n",
      " \n",
      "{'_infinite_tape_option': False,\n",
      " '_output': bytearray(b':)'),\n",
      " '_shutup': False,\n",
      " 'countBy': 1,\n",
      " 'data': bytearray(b')\\x00\\x00\\x01\\x00'),\n",
      " 'inp': bytearray(b''),\n",
      " 'jump_backs': [3],\n",
      " 'point': 4,\n",
      " 'skip': False}\n"
     ]
    },
    {
     "data": {
      "text/plain": [
       "Stored Data: {0: ')', 1: '\\x00', 2: '\\x00', 3: '\\x01', 4: '\\x00'}"
      ]
     },
     "execution_count": 50,
     "metadata": {},
     "output_type": "execute_result"
    }
   ],
   "source": [
    "# load - the boring way to code. >:C\n",
    "print(bf.RENEW.shutUp.load('functions need currly brackets').get_all.put_all.output)\n",
    "\n",
    "#vars: see all variables avalible: _underscore means u no touchy. \n",
    "bf.rgt.rgt.rgt.inc.jiz.jbinz.vars"
   ]
  },
  {
   "cell_type": "markdown",
   "id": "3ddbcbfb",
   "metadata": {
    "id": "3ddbcbfb"
   },
   "source": [
    "## Multiply"
   ]
  },
  {
   "cell_type": "code",
   "execution_count": null,
   "id": "55771229",
   "metadata": {
    "id": "55771229",
    "scrolled": false
   },
   "outputs": [],
   "source": [
    "### \"\"\"\n",
    "\"MULTIPLY by 2 - if I put in 2 will the answer be... \"\n",
    "# A: 100\n",
    "# B: d\n",
    "# C: 4 \n",
    "# D: error >:X\n",
    "# E: [franticly searches up what ascii codes are]\n",
    "\n",
    "ord(bf.RENEW.INPUT.get.mul(2).put.output.end())"
   ]
  },
  {
   "cell_type": "code",
   "execution_count": null,
   "id": "d07b9553",
   "metadata": {
    "id": "d07b9553",
    "scrolled": false
   },
   "outputs": [],
   "source": [
    "bf=bf.RENEW\n",
    "# \"Real\" Multiply\n",
    "bf.load(4).get.mul(2)\n"
   ]
  },
  {
   "cell_type": "code",
   "execution_count": null,
   "id": "64d1b69b",
   "metadata": {
    "id": "64d1b69b"
   },
   "outputs": [],
   "source": [
    "x=1==1\n",
    "x"
   ]
  },
  {
   "cell_type": "markdown",
   "id": "a66ec8a7",
   "metadata": {
    "id": "a66ec8a7"
   },
   "source": [
    "# Even or odd "
   ]
  },
  {
   "cell_type": "code",
   "execution_count": 51,
   "id": "932f88ab",
   "metadata": {
    "id": "932f88ab",
    "scrolled": false
   },
   "outputs": [
    {
     "name": "stdout",
     "output_type": "stream",
     "text": [
      "'Even'\n",
      "'Odd'\n",
      "'Even'\n",
      "'Odd'\n",
      "'Even'\n",
      "'Odd'\n",
      "'Even'\n",
      "'Odd'\n",
      "'Even'\n",
      "'Odd'\n",
      "'Even'\n",
      "'Odd'\n",
      "'Even'\n",
      "'Odd'\n",
      "'Even'\n",
      "'Odd'\n",
      "'Even'\n",
      "'Odd'\n",
      "'Even'\n",
      "'Odd'\n",
      "'Even'\n",
      "'Odd'\n",
      "'Even'\n",
      "'Odd'\n",
      "'Even'\n"
     ]
    }
   ],
   "source": [
    "for number in range(25):\n",
    "    bf=bf.RENEW\n",
    "    program = bf.load(number).get_all.lft.mod(2).rgt.load('Even Odd').get_all.CondGoto(loc=6,cond=bf.data[0],elloc=1).put.rgt.put.rgt.put.rgt.put.end()\n",
    "    # \n",
    "    print(program)\n",
    "    # making sure it does the same as python version. \n",
    "    assert program == ('Odd','Even')[number%2==0]\n",
    "# definitly better than python.\n"
   ]
  },
  {
   "cell_type": "code",
   "execution_count": null,
   "id": "133220dd",
   "metadata": {
    "id": "133220dd"
   },
   "outputs": [],
   "source": [
    "\n"
   ]
  }
 ],
 "metadata": {
  "colab": {
   "provenance": []
  },
  "kernelspec": {
   "display_name": "Python 3 (ipykernel)",
   "language": "python",
   "name": "python3"
  },
  "language_info": {
   "codemirror_mode": {
    "name": "ipython",
    "version": 3
   },
   "file_extension": ".py",
   "mimetype": "text/x-python",
   "name": "python",
   "nbconvert_exporter": "python",
   "pygments_lexer": "ipython3",
   "version": "3.9.12"
  }
 },
 "nbformat": 4,
 "nbformat_minor": 5
}
